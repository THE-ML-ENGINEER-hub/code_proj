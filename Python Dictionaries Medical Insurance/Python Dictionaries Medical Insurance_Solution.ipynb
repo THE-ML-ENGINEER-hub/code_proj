{
 "cells": [
  {
   "cell_type": "markdown",
   "id": "c293fab3",
   "metadata": {},
   "source": [
    "# Python Dictionaries: Medical Insurance Project"
   ]
  },
  {
   "cell_type": "markdown",
   "id": "96999d60",
   "metadata": {},
   "source": [
    "You have been asked to create a program that organizes and updates medical records efficiently.\n",
    "\n",
    "In this project, you will use your new knowledge of Python dictionaries to create a database of medical records for patients.\n",
    "\n",
    "Let's get started!"
   ]
  },
  {
   "cell_type": "markdown",
   "id": "ddbecfce",
   "metadata": {},
   "source": [
    "## Storing Patient Names and Insurance Costs"
   ]
  },
  {
   "cell_type": "markdown",
   "id": "93c58132",
   "metadata": {},
   "source": [
    "1. We would like to keep a record of medical patients and their insurance costs.\n",
    "\n",
    "   First, create an empty dictionary called `medical_costs`."
   ]
  },
  {
   "cell_type": "code",
   "execution_count": null,
   "id": "27acb456",
   "metadata": {},
   "outputs": [],
   "source": [
    "medical_costs = {}"
   ]
  },
  {
   "cell_type": "markdown",
   "id": "14446273",
   "metadata": {},
   "source": [
    "2. Let's populate our `medical_costs` dictionary by adding the following key-value pairs:\n",
    "   - Add `\"Marina\"` to `medical_costs` as a key with a value of `6607.0`.\n",
    "   - Add `\"Vinay\"` to `medical_costs` as a key with a value of `3225.0`."
   ]
  },
  {
   "cell_type": "code",
   "execution_count": null,
   "id": "3ffc70c1",
   "metadata": {},
   "outputs": [],
   "source": [
    "medical_costs[\"Marina\"] = 6607.0\n",
    "medical_costs[\"Vinay\"] = 3225.0"
   ]
  },
  {
   "cell_type": "markdown",
   "id": "0b05e6e8",
   "metadata": {},
   "source": [
    "3. Using one line of code, add the following three patients to the `medical_costs` dictionary:\n",
    "   - `\"Connie\"`, with an insurance cost of `8886.0`.\n",
    "   - `\"Isaac\"`, with an insurance cost of `16444.0`.\n",
    "   - `\"Valentina\"`, with an insurance cost of `6420.0`."
   ]
  },
  {
   "cell_type": "code",
   "execution_count": null,
   "id": "4b3a45e9",
   "metadata": {},
   "outputs": [],
   "source": [
    "medical_costs.update({\"Connie\": 8886.0, \"Isaac\": 16444.0, \"Valentina\": 6420.0})"
   ]
  },
  {
   "cell_type": "markdown",
   "id": "5f7f50a2",
   "metadata": {},
   "source": [
    "4. Print `medical_costs`. Make sure the dictionary is what you expected."
   ]
  },
  {
   "cell_type": "code",
   "execution_count": null,
   "id": "1aac24ec",
   "metadata": {},
   "outputs": [],
   "source": [
    "print(medical_costs)"
   ]
  },
  {
   "cell_type": "markdown",
   "id": "2868dde6",
   "metadata": {},
   "source": [
    "5. You notice that `Vinay`'s insurance cost was incorrectly inputted. Update the value associated with `Vinay` to `3325.0`.\n",
    "\n",
    "   Print the updated dictionary."
   ]
  },
  {
   "cell_type": "code",
   "execution_count": null,
   "id": "190122da",
   "metadata": {},
   "outputs": [],
   "source": [
    "medical_costs[\"Vinay\"] = 3325.0\n",
    "print(medical_costs)"
   ]
  },
  {
   "cell_type": "markdown",
   "id": "b9ee184a",
   "metadata": {},
   "source": [
    "6. Let's calculate the average medical cost of each patient. Create a variable called `total_cost` and set it equal to 0.\n",
    "\n",
    "   Next, iterate through the values in `medical_costs` and add each value to the `total_cost` variable."
   ]
  },
  {
   "cell_type": "code",
   "execution_count": null,
   "id": "40db1d24",
   "metadata": {},
   "outputs": [],
   "source": [
    "total_cost = 0\n",
    "for cost in medical_costs.values():\n",
    "    total_cost += cost"
   ]
  },
  {
   "cell_type": "markdown",
   "id": "ad683ca9",
   "metadata": {},
   "source": [
    "7. After the loop, create a variable called `average_cost` that stores the `total_cost` divided by the length of the `medical_costs` dictionary.\n",
    "\n",
    "   Print `average_cost` with the following message:\n",
    "   \n",
    "   ```\n",
    "   Average Insurance Cost: {average_cost}\n",
    "   ```"
   ]
  },
  {
   "cell_type": "code",
   "execution_count": null,
   "id": "c4edcf42",
   "metadata": {},
   "outputs": [],
   "source": [
    "average_cost = total_cost/len(medical_costs)\n",
    "print(\"Average Insurance Cost: \" + str(average_cost))"
   ]
  },
  {
   "cell_type": "markdown",
   "id": "647de239",
   "metadata": {},
   "source": [
    "## List Comprehension to Dictionary"
   ]
  },
  {
   "cell_type": "markdown",
   "id": "24732137",
   "metadata": {},
   "source": [
    "8. You have been asked to create a second dictionary that maps patient names to their ages.\n",
    "\n",
    "   First, create two lists called `names` and `ages` with the following data:\n",
    "   \n",
    "   names | ages\n",
    "   --- | ---\n",
    "   Marina | 27\n",
    "   Vinay | 24\n",
    "   Connie | 43\n",
    "   Isaac | 35\n",
    "   Valentina | 52"
   ]
  },
  {
   "cell_type": "code",
   "execution_count": null,
   "id": "d868dd28",
   "metadata": {},
   "outputs": [],
   "source": [
    "names = [\"Marina\", \"Vinay\", \"Connie\", \"Isaac\", \"Valentina\"]\n",
    "ages = [27, 24, 43, 35, 52]"
   ]
  },
  {
   "cell_type": "markdown",
   "id": "7a6a90ad",
   "metadata": {},
   "source": [
    "9. Next, create a variable called `zipped_ages` that is a zipped list of pairs between the `names` list and the `ages` list."
   ]
  },
  {
   "cell_type": "code",
   "execution_count": null,
   "id": "05b93dfd",
   "metadata": {},
   "outputs": [],
   "source": [
    "zipped_ages = zip(names, ages)"
   ]
  },
  {
   "cell_type": "markdown",
   "id": "b69871e0",
   "metadata": {},
   "source": [
    "10. Create a dictionary called `names_to_ages` by using a list comprehension that iterates through `zipped_ages` and turns each pair into a key : value item.\n",
    "\n",
    "    Print `names_to_ages` to see the result."
   ]
  },
  {
   "cell_type": "code",
   "execution_count": null,
   "id": "ae537c4f",
   "metadata": {},
   "outputs": [],
   "source": [
    "names_to_ages = {key: value for key, value in zipped_ages}\n",
    "print(names_to_ages)"
   ]
  },
  {
   "cell_type": "markdown",
   "id": "deba3307",
   "metadata": {},
   "source": [
    "11. Use `.get()` to get the value of Marina's age and store it in a variable called `marina_age`. Use `None` as a default value if the key doesn't exist.\n",
    "\n",
    "    Print `marina_age` with the following message:\n",
    "    \n",
    "    ```\n",
    "    Marina's age is {marina_age}\n",
    "    ```"
   ]
  },
  {
   "cell_type": "code",
   "execution_count": null,
   "id": "a3ad357f",
   "metadata": {},
   "outputs": [],
   "source": [
    "marina_age = names_to_ages.get(\"Marina\", None)\n",
    "print(\"Marina's age is \" + str(marina_age))"
   ]
  },
  {
   "cell_type": "markdown",
   "id": "d8f63526",
   "metadata": {},
   "source": [
    "## Using a Dictionary to Create a Medical Database"
   ]
  },
  {
   "cell_type": "markdown",
   "id": "9ee411a8",
   "metadata": {},
   "source": [
    "12. Let's create a third dictionary to represent a database of medical records that contains information such as a patient's name, age, sex, gender, BMI, number of children, smoker status, and insurance cost.\n",
    "\n",
    "    First, create an empty dictionary called `medical_records`."
   ]
  },
  {
   "cell_type": "code",
   "execution_count": null,
   "id": "0eaf4b6e",
   "metadata": {},
   "outputs": [],
   "source": [
    "medical_records = {}"
   ]
  },
  {
   "cell_type": "markdown",
   "id": "16638135",
   "metadata": {},
   "source": [
    "13. Next, add `\"Marina\"` to `medical_records` as a key with the value being a dictionary of medical data:\n",
    "\n",
    "    ```py\n",
    "    {\"Age\": 27, \"Sex\": \"Female\", \"BMI\": 31.1, \"Children\": 2, \"Smoker\": \"Non-smoker\", \"Insurance_cost\": 6607.0}\n",
    "    ```"
   ]
  },
  {
   "cell_type": "code",
   "execution_count": null,
   "id": "90d68905",
   "metadata": {},
   "outputs": [],
   "source": [
    "medical_records[\"Marina\"] = {\"Age\": 27, \"Sex\": \"Female\", \"BMI\": 31.1, \"Children\": 2, \"Smoker\": \"Non-smoker\", \"Insurance_cost\": 6607.0}"
   ]
  },
  {
   "cell_type": "markdown",
   "id": "295c77c9",
   "metadata": {},
   "source": [
    "14. Do the same for the following individuals:\n",
    "    \n",
    "    Name | Age | Sex | BMI | Children | Smoker | Insurance Cost\n",
    "    --- | --- | --- | --- | --- | --- | ---\n",
    "    Vinay | 24 | Male | 26.9 | 0 | Non-smoker | 3225.0\n",
    "    Connie | 43 | Female | 25.3 | 3 | Non-smoker | 8886.0\n",
    "    Isaac | 35 | Male | 20.6 | 4 | Smoker | 16444.0\n",
    "    Valentina | 52 | Female | 18.7 | 1 | Non-smoker | 6420.0"
   ]
  },
  {
   "cell_type": "code",
   "execution_count": null,
   "id": "76036641",
   "metadata": {},
   "outputs": [],
   "source": [
    "medical_records[\"Vinay\"] = {\"Age\": 24, \"Sex\": \"Male\", \"BMI\": 26.9, \"Children\": 0, \"Smoker\": \"Non-smoker\", \"Insurance_cost\": 3225.0}\n",
    "medical_records[\"Connie\"] = {\"Age\": 43, \"Sex\": \"Female\", \"BMI\": 25.3, \"Children\": 3, \"Smoker\": \"Non-smoker\", \"Insurance_cost\": 8886.0}\n",
    "medical_records[\"Isaac\"] = {\"Age\": 35, \"Sex\": \"Male\", \"BMI\": 20.6, \"Children\": 4, \"Smoker\": \"Smoker\", \"Insurance_cost\": 16444.0}\n",
    "medical_records[\"Valentina\"] = {\"Age\": 52, \"Sex\": \"Female\", \"BMI\": 18.7, \"Children\": 1, \"Smoker\": \"Non-smoker\", \"Insurance_cost\": 6420.0}"
   ]
  },
  {
   "cell_type": "markdown",
   "id": "7c5d243f",
   "metadata": {},
   "source": [
    "15. Print `medical_records` to see the result."
   ]
  },
  {
   "cell_type": "code",
   "execution_count": null,
   "id": "86f4e1ac",
   "metadata": {},
   "outputs": [],
   "source": [
    "print(medical_records)"
   ]
  },
  {
   "cell_type": "markdown",
   "id": "c586e918",
   "metadata": {},
   "source": [
    "16. The `medical_records` dictionary acts like a database of medical records. Let's access a specific piece of data in `medical_records`.\n",
    "\n",
    "    Print out `Connie`'s insurance cost with the following message:\n",
    "    \n",
    "    ```\n",
    "    Connie's insurance cost is X dollars.\n",
    "    ```"
   ]
  },
  {
   "cell_type": "code",
   "execution_count": null,
   "id": "68687be3",
   "metadata": {},
   "outputs": [],
   "source": [
    "print(\"Connie's insurance cost is \" + str(medical_records[\"Connie\"][\"Insurance_cost\"]) + \" dollars.\")"
   ]
  },
  {
   "cell_type": "markdown",
   "id": "cd4960aa",
   "metadata": {},
   "source": [
    "17. `Vinay` has moved to a new country, and we no longer want to include him in our medical records.\n",
    "\n",
    "    Remove `Vinay` from `medical_records`."
   ]
  },
  {
   "cell_type": "code",
   "execution_count": null,
   "id": "3630b7e4",
   "metadata": {},
   "outputs": [],
   "source": [
    "medical_records.pop(\"Vinay\")"
   ]
  },
  {
   "cell_type": "markdown",
   "id": "359b4eb0",
   "metadata": {},
   "source": [
    "18. Let's take a closer look at each patient's medical record.\n",
    "\n",
    "    Use a `for` loop to iterate through the items of `medical_records`. For each key-value pair, print out a string that looks like the following:\n",
    "    \n",
    "    ```\n",
    "    {Name} is a {Age} year old {Sex} {Smoker} with a BMI of {BMI} and insurance cost of {Insurance_cost}\n",
    "    ```"
   ]
  },
  {
   "cell_type": "code",
   "execution_count": null,
   "id": "b9dd1ef8",
   "metadata": {},
   "outputs": [],
   "source": [
    "for name, record in medical_records.items():\n",
    "    print(name + \" is a \" + str(record[\"Age\"]) + \\\n",
    "          \" year old \" + record[\"Sex\"] + \" \" + record[\"Smoker\"] \\\n",
    "         + \" with a BMI of \" + str(record[\"BMI\"]) + \\\n",
    "         \" and insurance cost of \" + str(record[\"Insurance_cost\"]))"
   ]
  },
  {
   "cell_type": "markdown",
   "id": "4f1fe718",
   "metadata": {},
   "source": [
    "## Extra"
   ]
  },
  {
   "cell_type": "markdown",
   "id": "e2fc7bdc",
   "metadata": {},
   "source": [
    "19. Congratulations! In this project, you used Python dictionaries to store and update medical data for individuals.\n",
    "\n",
    "    If you'd like extra practice with dictionaries, here are some suggestions to go further with this project:\n",
    "    - Create a function called `update_medical_records()` that takes in the name of an individual as well as their medical data, and then updates the `medical_records` dictionary accordingly.\n",
    "    - Create a new dictionary of your choice - feel free to get creative!\n",
    "    \n",
    "    Happy coding!"
   ]
  },
  {
   "cell_type": "code",
   "execution_count": null,
   "id": "7d247194",
   "metadata": {},
   "outputs": [],
   "source": []
  },
  {
   "cell_type": "code",
   "execution_count": null,
   "id": "48282be5",
   "metadata": {},
   "outputs": [],
   "source": []
  }
 ],
 "metadata": {
  "kernelspec": {
   "display_name": "Python 3 (ipykernel)",
   "language": "python",
   "name": "python3"
  },
  "language_info": {
   "codemirror_mode": {
    "name": "ipython",
    "version": 3
   },
   "file_extension": ".py",
   "mimetype": "text/x-python",
   "name": "python",
   "nbconvert_exporter": "python",
   "pygments_lexer": "ipython3",
   "version": "3.10.9"
  }
 },
 "nbformat": 4,
 "nbformat_minor": 5
}
