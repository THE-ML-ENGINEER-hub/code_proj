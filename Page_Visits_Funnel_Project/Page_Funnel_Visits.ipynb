{
 "cells": [
  {
   "cell_type": "code",
   "execution_count": 34,
   "metadata": {},
   "outputs": [],
   "source": [
    "import pandas as pd\n"
   ]
  },
  {
   "cell_type": "markdown",
   "metadata": {},
   "source": [
    "Import all the files"
   ]
  },
  {
   "cell_type": "code",
   "execution_count": 35,
   "metadata": {},
   "outputs": [],
   "source": [
    "visits = pd.read_csv('visits.csv',\n",
    "                     parse_dates=[1])\n",
    "cart = pd.read_csv('cart.csv',\n",
    "                   parse_dates=[1])\n",
    "                   \n",
    "checkout = pd.read_csv('checkout.csv',\n",
    "                       parse_dates=[1])\n",
    "purchase = pd.read_csv('purchase.csv',\n",
    "                       parse_dates=[1])"
   ]
  },
  {
   "cell_type": "markdown",
   "metadata": {},
   "source": [
    "Step 1: Inspect the DataFrames using `print` and `head`"
   ]
  },
  {
   "cell_type": "code",
   "execution_count": 36,
   "metadata": {},
   "outputs": [
    {
     "name": "stdout",
     "output_type": "stream",
     "text": [
      "                                user_id          visit_time\n",
      "0  943647ef-3682-4750-a2e1-918ba6f16188 2017-04-07 15:14:00\n",
      "1  0c3a3dd0-fb64-4eac-bf84-ba069ce409f2 2017-01-26 14:24:00\n",
      "2  6e0b2d60-4027-4d9a-babd-0e7d40859fb1 2017-08-20 08:23:00\n",
      "3  6879527e-c5a6-4d14-b2da-50b85212b0ab 2017-11-04 18:15:00\n",
      "4  a84327ff-5daa-4ba1-b789-d5b4caf81e96 2017-02-27 11:25:00\n",
      "                                user_id           cart_time\n",
      "0  2be90e7c-9cca-44e0-bcc5-124b945ff168 2017-11-07 20:45:00\n",
      "1  4397f73f-1da3-4ab3-91af-762792e25973 2017-05-27 01:35:00\n",
      "2  a9db3d4b-0a0a-4398-a55a-ebb2c7adf663 2017-03-04 10:38:00\n",
      "3  b594862a-36c5-47d5-b818-6e9512b939b3 2017-09-27 08:22:00\n",
      "4  a68a16e2-94f0-4ce8-8ce3-784af0bbb974 2017-07-26 15:48:00\n",
      "                                user_id       checkout_time\n",
      "0  d33bdc47-4afa-45bc-b4e4-dbe948e34c0d 2017-06-25 09:29:00\n",
      "1  4ac186f0-9954-4fea-8a27-c081e428e34e 2017-04-07 20:11:00\n",
      "2  3c9c78a7-124a-4b77-8d2e-e1926e011e7d 2017-07-13 11:38:00\n",
      "3  89fe330a-8966-4756-8f7c-3bdbcd47279a 2017-04-20 16:15:00\n",
      "4  3ccdaf69-2d30-40de-b083-51372881aedd 2017-01-08 20:52:00\n",
      "                                user_id       purchase_time\n",
      "0  4b44ace4-2721-47a0-b24b-15fbfa2abf85 2017-05-11 04:25:00\n",
      "1  02e684ae-a448-408f-a9ff-dcb4a5c99aac 2017-09-05 08:45:00\n",
      "2  4b4bc391-749e-4b90-ab8f-4f6e3c84d6dc 2017-11-20 20:49:00\n",
      "3  a5dbb25f-3c36-4103-9030-9f7c6241cd8d 2017-01-22 15:18:00\n",
      "4  46a3186d-7f5a-4ab9-87af-84d05bfd4867 2017-06-11 11:32:00\n"
     ]
    }
   ],
   "source": [
    "print(visits.head(5))\n",
    "print(cart.head(5))\n",
    "print(checkout.head(5))\n",
    "print(purchase.head(5))"
   ]
  },
  {
   "cell_type": "markdown",
   "metadata": {},
   "source": [
    "Step 2: Left merging visits and cart"
   ]
  },
  {
   "cell_type": "code",
   "execution_count": 37,
   "metadata": {},
   "outputs": [
    {
     "data": {
      "text/html": [
       "<div>\n",
       "<style scoped>\n",
       "    .dataframe tbody tr th:only-of-type {\n",
       "        vertical-align: middle;\n",
       "    }\n",
       "\n",
       "    .dataframe tbody tr th {\n",
       "        vertical-align: top;\n",
       "    }\n",
       "\n",
       "    .dataframe thead th {\n",
       "        text-align: right;\n",
       "    }\n",
       "</style>\n",
       "<table border=\"1\" class=\"dataframe\">\n",
       "  <thead>\n",
       "    <tr style=\"text-align: right;\">\n",
       "      <th></th>\n",
       "      <th>user_id</th>\n",
       "      <th>visit_time</th>\n",
       "      <th>cart_time</th>\n",
       "    </tr>\n",
       "  </thead>\n",
       "  <tbody>\n",
       "    <tr>\n",
       "      <th>0</th>\n",
       "      <td>943647ef-3682-4750-a2e1-918ba6f16188</td>\n",
       "      <td>2017-04-07 15:14:00</td>\n",
       "      <td>NaT</td>\n",
       "    </tr>\n",
       "    <tr>\n",
       "      <th>1</th>\n",
       "      <td>0c3a3dd0-fb64-4eac-bf84-ba069ce409f2</td>\n",
       "      <td>2017-01-26 14:24:00</td>\n",
       "      <td>2017-01-26 14:44:00</td>\n",
       "    </tr>\n",
       "    <tr>\n",
       "      <th>2</th>\n",
       "      <td>6e0b2d60-4027-4d9a-babd-0e7d40859fb1</td>\n",
       "      <td>2017-08-20 08:23:00</td>\n",
       "      <td>2017-08-20 08:31:00</td>\n",
       "    </tr>\n",
       "    <tr>\n",
       "      <th>3</th>\n",
       "      <td>6879527e-c5a6-4d14-b2da-50b85212b0ab</td>\n",
       "      <td>2017-11-04 18:15:00</td>\n",
       "      <td>NaT</td>\n",
       "    </tr>\n",
       "    <tr>\n",
       "      <th>4</th>\n",
       "      <td>a84327ff-5daa-4ba1-b789-d5b4caf81e96</td>\n",
       "      <td>2017-02-27 11:25:00</td>\n",
       "      <td>NaT</td>\n",
       "    </tr>\n",
       "  </tbody>\n",
       "</table>\n",
       "</div>"
      ],
      "text/plain": [
       "                                user_id          visit_time  \\\n",
       "0  943647ef-3682-4750-a2e1-918ba6f16188 2017-04-07 15:14:00   \n",
       "1  0c3a3dd0-fb64-4eac-bf84-ba069ce409f2 2017-01-26 14:24:00   \n",
       "2  6e0b2d60-4027-4d9a-babd-0e7d40859fb1 2017-08-20 08:23:00   \n",
       "3  6879527e-c5a6-4d14-b2da-50b85212b0ab 2017-11-04 18:15:00   \n",
       "4  a84327ff-5daa-4ba1-b789-d5b4caf81e96 2017-02-27 11:25:00   \n",
       "\n",
       "            cart_time  \n",
       "0                 NaT  \n",
       "1 2017-01-26 14:44:00  \n",
       "2 2017-08-20 08:31:00  \n",
       "3                 NaT  \n",
       "4                 NaT  "
      ]
     },
     "execution_count": 37,
     "metadata": {},
     "output_type": "execute_result"
    }
   ],
   "source": [
    "visits_cart = pd.merge(visits, cart, how='left')\n",
    "visits_cart.head()"
   ]
  },
  {
   "cell_type": "markdown",
   "metadata": {},
   "source": [
    "Step 3: How long is `visits_cart`?"
   ]
  },
  {
   "cell_type": "code",
   "execution_count": 38,
   "metadata": {},
   "outputs": [
    {
     "name": "stdout",
     "output_type": "stream",
     "text": [
      "2000\n"
     ]
    }
   ],
   "source": [
    "total_visits = len(visits_cart)\n",
    "\n",
    "print(total_visits)"
   ]
  },
  {
   "cell_type": "markdown",
   "metadata": {},
   "source": [
    "Step 4: How many timestamps are null for `cart_time`?"
   ]
  },
  {
   "cell_type": "code",
   "execution_count": 39,
   "metadata": {},
   "outputs": [
    {
     "name": "stdout",
     "output_type": "stream",
     "text": [
      "The number of null timestamps is 1652\n"
     ]
    }
   ],
   "source": [
    "null_cart_time = len(visits_cart[visits_cart.cart_time.isnull()])\n",
    "\n",
    "print('The number of null timestamps is', null_cart_time)"
   ]
  },
  {
   "cell_type": "markdown",
   "metadata": {},
   "source": [
    "Step 5: What percentage only visited?"
   ]
  },
  {
   "cell_type": "code",
   "execution_count": 40,
   "metadata": {},
   "outputs": [
    {
     "name": "stdout",
     "output_type": "stream",
     "text": [
      "percantage of people that only visited, 0.826\n"
     ]
    }
   ],
   "source": [
    "visited_not_cart = float(null_cart_time) / float(total_visits)\n",
    "print(f'percantage of people that only visited, {visited_not_cart}')"
   ]
  },
  {
   "cell_type": "markdown",
   "metadata": {},
   "source": [
    "Step 6: What percentage placed a t-shirt in their cart but did not checkout?"
   ]
  },
  {
   "cell_type": "code",
   "execution_count": 41,
   "metadata": {},
   "outputs": [
    {
     "name": "stdout",
     "output_type": "stream",
     "text": [
      "                                user_id           cart_time  \\\n",
      "0  2be90e7c-9cca-44e0-bcc5-124b945ff168 2017-11-07 20:45:00   \n",
      "1  4397f73f-1da3-4ab3-91af-762792e25973 2017-05-27 01:35:00   \n",
      "2  a9db3d4b-0a0a-4398-a55a-ebb2c7adf663 2017-03-04 10:38:00   \n",
      "3  b594862a-36c5-47d5-b818-6e9512b939b3 2017-09-27 08:22:00   \n",
      "4  a68a16e2-94f0-4ce8-8ce3-784af0bbb974 2017-07-26 15:48:00   \n",
      "\n",
      "        checkout_time  \n",
      "0 2017-11-07 21:14:00  \n",
      "1                 NaT  \n",
      "2 2017-03-04 11:04:00  \n",
      "3 2017-09-27 08:26:00  \n",
      "4                 NaT  \n",
      "percent that placed t-shirt but no checkout 0.3505747126436782\n"
     ]
    }
   ],
   "source": [
    "# merge both cart and checkout dataframes \n",
    "cart_checkout = pd.merge(cart, checkout, how='left')\n",
    "print(cart_checkout.head())\n",
    "\n",
    "# calculate percent that placed t-shirt in their cart but no checkout\n",
    "null_cart_checkout = len(cart_checkout[cart_checkout.checkout_time.isnull()])\n",
    "total_cart_checkout = len(cart)\n",
    "cart_not_checkout = float(null_cart_checkout) / float(total_cart_checkout)\n",
    "print('percent that placed t-shirt but no checkout', cart_not_checkout)\n",
    "\n"
   ]
  },
  {
   "cell_type": "markdown",
   "metadata": {},
   "source": [
    "Step 7: Merge it all together"
   ]
  },
  {
   "cell_type": "code",
   "execution_count": 42,
   "metadata": {},
   "outputs": [
    {
     "name": "stdout",
     "output_type": "stream",
     "text": [
      "                                   user_id          visit_time  \\\n",
      "0     943647ef-3682-4750-a2e1-918ba6f16188 2017-04-07 15:14:00   \n",
      "1     0c3a3dd0-fb64-4eac-bf84-ba069ce409f2 2017-01-26 14:24:00   \n",
      "2     6e0b2d60-4027-4d9a-babd-0e7d40859fb1 2017-08-20 08:23:00   \n",
      "3     6879527e-c5a6-4d14-b2da-50b85212b0ab 2017-11-04 18:15:00   \n",
      "4     a84327ff-5daa-4ba1-b789-d5b4caf81e96 2017-02-27 11:25:00   \n",
      "...                                    ...                 ...   \n",
      "2103  33913ac2-03da-45ae-8fc3-fea39df827c6 2017-03-25 03:29:00   \n",
      "2104  4f850132-b99d-4623-80e6-6e61d003577e 2017-01-08 09:57:00   \n",
      "2105  f0830b9b-1f5c-4e74-b63d-3f847cc6ce70 2017-09-07 12:56:00   \n",
      "2106  b01bffa7-63ba-4cd3-9d93-eb1477c23831 2017-07-20 04:37:00   \n",
      "2107  0336ca81-8d68-443f-9248-ac0b8ad147d5 2017-11-15 10:11:00   \n",
      "\n",
      "               cart_time       checkout_time       purchase_time  \n",
      "0                    NaT                 NaT                 NaT  \n",
      "1    2017-01-26 14:44:00 2017-01-26 14:54:00 2017-01-26 15:08:00  \n",
      "2    2017-08-20 08:31:00                 NaT                 NaT  \n",
      "3                    NaT                 NaT                 NaT  \n",
      "4                    NaT                 NaT                 NaT  \n",
      "...                  ...                 ...                 ...  \n",
      "2103                 NaT                 NaT                 NaT  \n",
      "2104                 NaT                 NaT                 NaT  \n",
      "2105                 NaT                 NaT                 NaT  \n",
      "2106                 NaT                 NaT                 NaT  \n",
      "2107                 NaT                 NaT                 NaT  \n",
      "\n",
      "[2108 rows x 5 columns]\n"
     ]
    }
   ],
   "source": [
    "# merge all the four dataframes in order using series of left merge\n",
    "all_data = visits.merge(cart, how='left').merge(checkout, how='left').merge(purchase, how='left')\n",
    "print(all_data)\n"
   ]
  },
  {
   "cell_type": "markdown",
   "metadata": {},
   "source": [
    "Step 8: % of users who got to checkout but did not purchase"
   ]
  },
  {
   "cell_type": "code",
   "execution_count": 48,
   "metadata": {},
   "outputs": [
    {
     "name": "stdout",
     "output_type": "stream",
     "text": [
      "% of users who got to checkout but did not purchase: 0.24550898203592814\n"
     ]
    }
   ],
   "source": [
    "# people that reached checkout\n",
    "reached_checkout = all_data[~all_data.checkout_time.isnull()]\n",
    "\n",
    "# reached checkout and did not purchase\n",
    "checkout_not_purchase = all_data[(all_data.purchase_time.isnull()) & (~all_data.checkout_time.isnull())]\n",
    "\n",
    "# percentage \n",
    "checkout_not_purchase_percent = float(len(checkout_not_purchase)) / float(len(reached_checkout))\n",
    "\n",
    "print(\"% of users who got to checkout but did not purchase:\",checkout_not_purchase_percent)\n"
   ]
  },
  {
   "cell_type": "markdown",
   "metadata": {},
   "source": [
    "Step 9: check each part of the funnel, let's print all 3 of them again"
   ]
  },
  {
   "cell_type": "code",
   "execution_count": 72,
   "metadata": {},
   "outputs": [
    {
     "name": "stdout",
     "output_type": "stream",
     "text": [
      "82.6 % of users who visited the page did not add a t-shirt to their cart.\n",
      "35.06 % of users who added a t-shirt to their cart did not checkout.\n",
      "24.55 % of users who made it to checkout  did not purchase a shirt.\n"
     ]
    }
   ],
   "source": [
    "print(round(visited_not_cart * 100, 2,), '% of users who visited the page did not add a t-shirt to their cart.')\n",
    "print(round(cart_not_checkout * 100, 2), '% of users who added a t-shirt to their cart did not checkout.')\n",
    "print(round(checkout_not_purchase_percent * 100, 2), '% of users who made it to checkout  did not purchase a shirt.')\n",
    "\n",
    "\n",
    "\n"
   ]
  },
  {
   "cell_type": "markdown",
   "metadata": {},
   "source": [
    "*The weakest part of the funnel is clearly getting a person who visited the site to add a tshirt to their cart. Once they've added a t-shirt to their cart it is fairly likely they end up purchasing it. A suggestion could be to make the add-to-cart button more prominent on the front page.*\n",
    "\n",
    "\n",
    "Step 10: adding new column"
   ]
  },
  {
   "cell_type": "code",
   "execution_count": 79,
   "metadata": {},
   "outputs": [],
   "source": [
    "# add new column to all_data that is the difference between purchase_time and visit_time\n",
    "all_data['time_to_purchase'] = all_data.purchase_time - all_data.visit_time\n"
   ]
  },
  {
   "cell_type": "markdown",
   "metadata": {},
   "source": [
    "Step 11: examine the results"
   ]
  },
  {
   "cell_type": "code",
   "execution_count": 83,
   "metadata": {},
   "outputs": [
    {
     "name": "stdout",
     "output_type": "stream",
     "text": [
      "0                  NaT\n",
      "1      0 days 00:44:00\n",
      "2                  NaT\n",
      "3                  NaT\n",
      "4                  NaT\n",
      "             ...      \n",
      "2103               NaT\n",
      "2104               NaT\n",
      "2105               NaT\n",
      "2106               NaT\n",
      "2107               NaT\n",
      "Name: time_to_purchase, Length: 2108, dtype: timedelta64[ns]\n"
     ]
    }
   ],
   "source": [
    "print(all_data.time_to_purchase)"
   ]
  },
  {
   "cell_type": "markdown",
   "metadata": {},
   "source": [
    "Step 12: average time to purchase"
   ]
  },
  {
   "cell_type": "code",
   "execution_count": 84,
   "metadata": {},
   "outputs": [
    {
     "name": "stdout",
     "output_type": "stream",
     "text": [
      "0 days 00:43:12.380952380\n"
     ]
    }
   ],
   "source": [
    "# average time to purchase\n",
    "print(all_data.time_to_purchase.mean())"
   ]
  },
  {
   "cell_type": "code",
   "execution_count": null,
   "metadata": {},
   "outputs": [],
   "source": []
  }
 ],
 "metadata": {
  "kernelspec": {
   "display_name": "Python 3",
   "language": "python",
   "name": "python3"
  },
  "language_info": {
   "codemirror_mode": {
    "name": "ipython",
    "version": 3
   },
   "file_extension": ".py",
   "mimetype": "text/x-python",
   "name": "python",
   "nbconvert_exporter": "python",
   "pygments_lexer": "ipython3",
   "version": "3.10.9"
  }
 },
 "nbformat": 4,
 "nbformat_minor": 4
}
